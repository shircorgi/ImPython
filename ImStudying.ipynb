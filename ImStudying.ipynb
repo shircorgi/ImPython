{
 "cells": [
  {
   "cell_type": "code",
   "execution_count": null,
   "id": "7913873b-e3c9-473f-a6f6-10c6d7c07ea5",
   "metadata": {},
   "outputs": [],
   "source": [
    "#calculator"
   ]
  },
  {
   "cell_type": "code",
   "execution_count": 1,
   "id": "4183340d-b775-4aee-8bfe-ce3c66af31f2",
   "metadata": {},
   "outputs": [
    {
     "name": "stdout",
     "output_type": "stream",
     "text": [
      "3\n",
      "7\n"
     ]
    }
   ],
   "source": [
    "result = 0\n",
    "\n",
    "def add(num):\n",
    "    global result\n",
    "    result += num #결과값(result)에 입력값(num) 더하기\n",
    "    return result #결과값 리턴\n",
    "\n",
    "print(add(3))\n",
    "print(add(4))"
   ]
  },
  {
   "cell_type": "code",
   "execution_count": 2,
   "id": "190df484-01de-41ff-b8be-3ae9f7042f1d",
   "metadata": {},
   "outputs": [],
   "source": [
    "#이전에 계산한 결과값을 유지하기 위해 result 전역 변수(global)를 사용\n",
    "#2대의 계산기가 필요할 경우, 각각의 결과값을 유지해야 하므로 add 함수만으로는 유지가 어려움"
   ]
  },
  {
   "cell_type": "code",
   "execution_count": 4,
   "id": "9e895432-97af-40b0-b98e-081a0a23985f",
   "metadata": {},
   "outputs": [
    {
     "name": "stdout",
     "output_type": "stream",
     "text": [
      "3\n",
      "7\n",
      "3\n",
      "10\n"
     ]
    }
   ],
   "source": [
    "result1 = 0\n",
    "result2 = 0\n",
    "\n",
    "def add1(num): #계산기1\n",
    "    global result1\n",
    "    result1 += num\n",
    "    return result1\n",
    "\n",
    "def add2(num): #계산기2\n",
    "    global result2\n",
    "    result2 += num\n",
    "    return result2\n",
    "\n",
    "print(add1(3))\n",
    "print(add1(4))\n",
    "print(add2(3))\n",
    "print(add2(7))"
   ]
  },
  {
   "cell_type": "code",
   "execution_count": 5,
   "id": "58bc8520-99b4-40aa-b376-6489c68af245",
   "metadata": {},
   "outputs": [],
   "source": [
    "#위와 같이 서로에게 영향을 끼치진 않지만 계산기가 더 늘어나거나 곱하기, 나누기 등 \n",
    "#기능이 추가됨에 따라 상황이 어려워질 수 있다."
   ]
  },
  {
   "cell_type": "code",
   "execution_count": 7,
   "id": "5859ff00-f6ae-4012-a224-7c8d40e076f5",
   "metadata": {},
   "outputs": [
    {
     "name": "stdout",
     "output_type": "stream",
     "text": [
      "3\n",
      "7\n",
      "3\n",
      "10\n"
     ]
    }
   ],
   "source": [
    "class Calculator:\n",
    "    def __init__(self):\n",
    "        self.result = 0\n",
    "\n",
    "    def add(self, num):\n",
    "        self.result += num\n",
    "        return self.result\n",
    "\n",
    "cal1 = Calculator()\n",
    "cal2 = Calculator()\n",
    "\n",
    "print(cal1.add(3))\n",
    "print(cal1.add(4))\n",
    "print(cal2.add(3))\n",
    "print(cal2.add(7))"
   ]
  },
  {
   "cell_type": "code",
   "execution_count": 8,
   "id": "6922e5d8-66a1-4f27-a3b2-cad435963614",
   "metadata": {},
   "outputs": [],
   "source": [
    "#cal1, cal2를 객체라고 부름\n",
    "#함수만 사용할 때보다 간단하게 작성이 가능\n",
    "#다른 기능을 넣고 싶다면 클래스에 그 기능의 함수를 추가하면 된다"
   ]
  },
  {
   "cell_type": "code",
   "execution_count": 32,
   "id": "5b5d2ab6-7d1e-4cde-93e8-30353ef66c0c",
   "metadata": {},
   "outputs": [
    {
     "name": "stdout",
     "output_type": "stream",
     "text": [
      "10\n",
      "20\n",
      "20\n",
      "40\n",
      "\t\n",
      "10\n",
      "0\n",
      "20\n",
      "0\n"
     ]
    }
   ],
   "source": [
    "class Calculator:\n",
    "    def __init__(self):\n",
    "        self.result = 0\n",
    "\n",
    "    def add(self, num): # 더하기\n",
    "        self.result += num\n",
    "        return self.result\n",
    "\n",
    "    def sub(self, num): # 빼기\n",
    "        self.result -= num\n",
    "        return self.result\n",
    "\n",
    "cal1 = Calculator()\n",
    "cal2 = Calculator()\n",
    "\n",
    "print(cal1.add(10))\n",
    "print(cal1.add(10))\n",
    "print(cal2.add(20))\n",
    "print(cal2.add(20))\n",
    "print(\"\\t\")\n",
    "\n",
    "print(cal1.sub(10))\n",
    "print(cal1.sub(10))\n",
    "print(cal2.sub(20))\n",
    "print(cal2.sub(20))\n"
   ]
  },
  {
   "cell_type": "code",
   "execution_count": null,
   "id": "c7473760-9ddf-4064-84cc-4e6e53a28b28",
   "metadata": {},
   "outputs": [],
   "source": []
  }
 ],
 "metadata": {
  "kernelspec": {
   "display_name": "Python 3 (ipykernel)",
   "language": "python",
   "name": "python3"
  },
  "language_info": {
   "codemirror_mode": {
    "name": "ipython",
    "version": 3
   },
   "file_extension": ".py",
   "mimetype": "text/x-python",
   "name": "python",
   "nbconvert_exporter": "python",
   "pygments_lexer": "ipython3",
   "version": "3.12.3"
  }
 },
 "nbformat": 4,
 "nbformat_minor": 5
}
